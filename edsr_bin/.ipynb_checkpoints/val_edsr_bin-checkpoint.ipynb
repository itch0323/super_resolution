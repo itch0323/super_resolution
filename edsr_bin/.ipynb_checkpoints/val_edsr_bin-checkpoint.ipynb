{
 "cells": [
  {
   "cell_type": "code",
   "execution_count": 1,
   "metadata": {},
   "outputs": [],
   "source": [
    "import torch\n",
    "from torchvision import models, transforms\n",
    "from torchvision.utils import save_image, make_grid\n",
    "from torch.utils.data import DataLoader\n",
    "from torch.autograd import Variable\n",
    "from models import * #models.pyを読み込む\n",
    "from datasets import * #dataset.pyを読み込む\n",
    "import torch.nn as nn\n",
    "import torch.nn.functional as F\n",
    "import os\n",
    "import numpy as np\n",
    "import sys\n",
    "%matplotlib inline\n",
    "import seaborn as sns\n",
    "from matplotlib import cm\n",
    "from mpl_toolkits.mplot3d import Axes3D\n",
    "import matplotlib.pyplot as plt\n",
    "import cv2"
   ]
  },
  {
   "cell_type": "code",
   "execution_count": 2,
   "metadata": {},
   "outputs": [],
   "source": [
    "hr_height=128\n",
    "hr_width=128\n",
    "channels=3\n",
    "batch_size=1\n",
    "lr=0.0002\n",
    "b1=0.5\n",
    "b2=0.999\n",
    "n_cpu=8"
   ]
  },
  {
   "cell_type": "code",
   "execution_count": 3,
   "metadata": {},
   "outputs": [
    {
     "ename": "NameError",
     "evalue": "name 'Discriminator' is not defined",
     "output_type": "error",
     "traceback": [
      "\u001b[0;31m---------------------------------------------------------------------------\u001b[0m",
      "\u001b[0;31mNameError\u001b[0m                                 Traceback (most recent call last)",
      "\u001b[0;32m<ipython-input-3-0504b6e866bc>\u001b[0m in \u001b[0;36m<module>\u001b[0;34m\u001b[0m\n\u001b[1;32m      5\u001b[0m \u001b[0;31m# Initialize generator and discriminator\u001b[0m\u001b[0;34m\u001b[0m\u001b[0;34m\u001b[0m\u001b[0;34m\u001b[0m\u001b[0m\n\u001b[1;32m      6\u001b[0m \u001b[0mgenerator\u001b[0m \u001b[0;34m=\u001b[0m \u001b[0mGeneratorResNet\u001b[0m\u001b[0;34m(\u001b[0m\u001b[0;34m)\u001b[0m\u001b[0;34m\u001b[0m\u001b[0;34m\u001b[0m\u001b[0m\n\u001b[0;32m----> 7\u001b[0;31m \u001b[0mdiscriminator\u001b[0m \u001b[0;34m=\u001b[0m \u001b[0mDiscriminator\u001b[0m\u001b[0;34m(\u001b[0m\u001b[0minput_shape\u001b[0m\u001b[0;34m=\u001b[0m\u001b[0;34m(\u001b[0m\u001b[0mchannels\u001b[0m\u001b[0;34m,\u001b[0m \u001b[0;34m*\u001b[0m\u001b[0mhr_shape\u001b[0m\u001b[0;34m)\u001b[0m\u001b[0;34m)\u001b[0m\u001b[0;34m\u001b[0m\u001b[0;34m\u001b[0m\u001b[0m\n\u001b[0m\u001b[1;32m      8\u001b[0m \u001b[0mfeature_extractor\u001b[0m \u001b[0;34m=\u001b[0m \u001b[0mFeatureExtractor\u001b[0m\u001b[0;34m(\u001b[0m\u001b[0;34m)\u001b[0m\u001b[0;34m\u001b[0m\u001b[0;34m\u001b[0m\u001b[0m\n\u001b[1;32m      9\u001b[0m \u001b[0;34m\u001b[0m\u001b[0m\n",
      "\u001b[0;31mNameError\u001b[0m: name 'Discriminator' is not defined"
     ]
    }
   ],
   "source": [
    "cuda = torch.cuda.is_available()\n",
    "\n",
    "hr_shape = (hr_height, hr_width)\n",
    "\n",
    "# Initialize generator and discriminator\n",
    "generator = GeneratorResNet()\n",
    "\n",
    "feature_extractor = FeatureExtractor()\n",
    "\n",
    "# Set feature extractor to inference mode\n",
    "feature_extractor.eval()"
   ]
  },
  {
   "cell_type": "code",
   "execution_count": null,
   "metadata": {},
   "outputs": [],
   "source": [
    "# Losses\n",
    "criterion_GAN = torch.nn.MSELoss()\n",
    "criterion_content = torch.nn.L1Loss()\n",
    "\n",
    "if cuda:\n",
    "    generator = generator.cuda()\n",
    "    feature_extractor = feature_extractor.cuda()"
   ]
  },
  {
   "cell_type": "code",
   "execution_count": null,
   "metadata": {},
   "outputs": [],
   "source": [
    "# Optimizers\n",
    "optimizer_G = torch.optim.Adam(generator.parameters(), lr=lr, betas=(b1, b2))\n",
    "optimizer_D = torch.optim.Adam(discriminator.parameters(), lr=lr, betas=(b1, b2))\n",
    "Tensor = torch.cuda.FloatTensor if cuda else torch.Tensor"
   ]
  },
  {
   "cell_type": "code",
   "execution_count": null,
   "metadata": {},
   "outputs": [],
   "source": [
    "#最もエポック数の多い重みファイルをロード\n",
    "g_path = glob.glob(\"saved_models/*\")[-1]\n",
    "generator.load_state_dict(torch.load(g_path))"
   ]
  },
  {
   "cell_type": "code",
   "execution_count": null,
   "metadata": {},
   "outputs": [],
   "source": [
    "preprocess = transforms.Compose([\n",
    "    #transforms.ToTensor(),\n",
    "    transforms.Normalize(\n",
    "        mean=[0.5, 0.5, 0.5],\n",
    "        std=[0.5, 0.5, 0.5]\n",
    "    )\n",
    "])"
   ]
  },
  {
   "cell_type": "code",
   "execution_count": null,
   "metadata": {},
   "outputs": [],
   "source": [
    "#肖像権フリーの男性\n",
    "img = cv2.imread(\"../test/img_128/0.jpg\")\n",
    "\n",
    "#肖像権フリーの女性\n",
    "#img = cv2.imread(\"../test/img_128/1.jpg\")\n",
    "\n",
    "#OpenCV は色がGBR順なのでRGB順に並べ替える\n",
    "plt.imshow(cv2.cvtColor(img, cv2.COLOR_BGR2RGB)) \n",
    "plt.show()"
   ]
  },
  {
   "cell_type": "code",
   "execution_count": null,
   "metadata": {},
   "outputs": [],
   "source": [
    "lr_bin = cv2.resize(img, dsize=(32, 32)).transpose()\n",
    "hr_bin = cv2.resize(img, dsize=(128, 128)).transpose()\n",
    "\n",
    "lr_bin = torch.from_numpy((lr_bin/np.max(np.abs(lr_bin))).astype(np.float32)).clone()\n",
    "hr_bin = torch.from_numpy((hr_bin/np.max(np.abs(hr_bin))).astype(np.float32)).clone()\n",
    "\n",
    "imgs_lr = preprocess(lr_bin)\n",
    "imgs_hr = preprocess(hr_bin)\n",
    "gen_hr = generator(imgs_lr[None].cuda())\n",
    "\n",
    "\n",
    "# NCHW -> NHWCに変換\n",
    "print(type(imgs_lr))\n",
    "print(type(imgs_hr))\n",
    "print(type(gen_hr))\n",
    "print(\"lrmax\" + str(np.max(imgs_lr.to('cpu').detach().numpy().copy())), \"lrmin\" + str(np.min(imgs_lr.to('cpu').detach().numpy().copy())))\n",
    "print(\"hrmax\" + str(np.max(imgs_hr.to('cpu').detach().numpy().copy())), \"hrmin\" + str(np.min(imgs_hr.to('cpu').detach().numpy().copy())))\n",
    "print(\"srmax\" + str(np.max(gen_hr.to('cpu').detach().numpy().copy())), \"srmin\" + str(np.min(gen_hr.to('cpu').detach().numpy().copy())))\n"
   ]
  },
  {
   "cell_type": "code",
   "execution_count": null,
   "metadata": {},
   "outputs": [],
   "source": [
    "sr = gen_hr[0].to('cpu').detach().numpy().copy()\n",
    "hr = hr_bin.to('cpu').detach().numpy().copy()\n",
    "lr = lr_bin.to('cpu').detach().numpy().copy()"
   ]
  },
  {
   "cell_type": "code",
   "execution_count": null,
   "metadata": {},
   "outputs": [],
   "source": [
    "print(\"超解像\")\n",
    "plt.imshow(cv2.cvtColor(sr.transpose(), cv2.COLOR_BGR2RGB))\n",
    "plt.show()\n",
    "\n",
    "print(\"\\n高画質画像\")\n",
    "plt.imshow(cv2.cvtColor(hr.transpose(), cv2.COLOR_BGR2RGB))\n",
    "plt.show()\n",
    "\n",
    "print(\"\\n低画質画像\")\n",
    "plt.imshow(cv2.cvtColor(lr.transpose(), cv2.COLOR_BGR2RGB))\n",
    "plt.show()"
   ]
  },
  {
   "cell_type": "code",
   "execution_count": null,
   "metadata": {},
   "outputs": [],
   "source": [
    "def mse(y, t):\n",
    "    return round(0.5 * np.sum((y - t) **2), 2)"
   ]
  },
  {
   "cell_type": "code",
   "execution_count": null,
   "metadata": {},
   "outputs": [],
   "source": [
    "print(\"高画質画像と超解像の二乗和誤差：\" + str(mse(hr, sr)))\n",
    "print(\"高画質画像と低画質画像（bicubicによる拡大）の二乗和誤差：\" + str(mse(hr, cv2.resize(lr.transpose(), dsize=(128, 128)).transpose())))"
   ]
  }
 ],
 "metadata": {
  "kernelspec": {
   "display_name": "Python 3",
   "language": "python",
   "name": "python3"
  },
  "language_info": {
   "codemirror_mode": {
    "name": "ipython",
    "version": 3
   },
   "file_extension": ".py",
   "mimetype": "text/x-python",
   "name": "python",
   "nbconvert_exporter": "python",
   "pygments_lexer": "ipython3",
   "version": "3.7.9"
  }
 },
 "nbformat": 4,
 "nbformat_minor": 4
}
